{
  "nbformat": 4,
  "nbformat_minor": 0,
  "metadata": {
    "colab": {
      "private_outputs": true,
      "provenance": [],
      "collapsed_sections": [
        "vncDsAP0Gaoa",
        "FJNUwmbgGyua",
        "yQaldy8SH6Dl",
        "n3dbpmDWp1ck",
        "ylSl6qgtp1ck",
        "ZWILFDl5p1ck",
        "M7G43BXep1ck",
        "Ag9LCva-p1cl",
        "E6MkPsBcp1cl",
        "2cELzS2fp1cl",
        "3MPXvC8up1cl",
        "NC_X3p0fY2L0",
        "UV0SzAkaZNRQ",
        "YPEH6qLeZNRQ",
        "q29F0dvdveiT",
        "EXh0U9oCveiU",
        "22aHeOlLveiV",
        "g-ATYxFrGrvw",
        "Yfr_Vlr8HBkt",
        "8yEUt7NnHlrM",
        "tEA2Xm5dHt1r",
        "I79__PHVH19G",
        "Ou-I18pAyIpj",
        "fF3858GYyt-u",
        "4_0_7-oCpUZd",
        "hwyV_J3ipUZe",
        "3yB-zSqbpUZe",
        "dEUvejAfpUZe",
        "Fd15vwWVpUZf",
        "bn_IUdTipZyH",
        "49K5P_iCpZyH",
        "Nff-vKELpZyI",
        "kLW572S8pZyI",
        "dWbDXHzopZyI",
        "578E2V7j08f6",
        "Iwf50b-R2tYG",
        "GMQiZwjn3iu7",
        "WVIkgGqN3qsr",
        "XkPnILGE3zoT",
        "Hlsf0x5436Go",
        "mT9DMSJo4nBL",
        "c49ITxTc407N",
        "OeJFEK0N496M",
        "9ExmJH0g5HBk",
        "cJNqERVU536h",
        "k5UmGsbsOxih",
        "T0VqWOYE6DLQ",
        "qBMux9mC6MCf",
        "-oLEiFgy-5Pf",
        "C74aWNz2AliB",
        "2DejudWSA-a0",
        "pEMng2IbBLp7",
        "rAdphbQ9Bhjc",
        "TNVZ9zx19K6k",
        "nqoHp30x9hH9",
        "rMDnDkt2B6du",
        "yiiVWRdJDDil",
        "1UUpS68QDMuG",
        "kexQrXU-DjzY",
        "T5CmagL3EC8N",
        "BhH2vgX9EjGr",
        "qjKvONjwE8ra",
        "P1XJ9OREExlT",
        "VFOzZv6IFROw",
        "TIqpNgepFxVj",
        "VfCC591jGiD4",
        "OB4l2ZhMeS1U",
        "ArJBuiUVfxKd",
        "4qY1EAkEfxKe",
        "PiV4Ypx8fxKe",
        "TfvqoZmBfxKf",
        "dJ2tPlVmpsJ0",
        "JWYfwnehpsJ1",
        "-jK_YjpMpsJ2",
        "HAih1iBOpsJ2",
        "zVGeBEFhpsJ2",
        "bmKjuQ-FpsJ3",
        "Fze-IPXLpx6K",
        "7AN1z2sKpx6M",
        "9PIHJqyupx6M",
        "_-qAgymDpx6N",
        "Z-hykwinpx6N",
        "h_CCil-SKHpo",
        "cBFFvTBNJzUa",
        "gCX9965dhzqZ",
        "gIfDvo9L0UH2"
      ],
      "include_colab_link": true
    },
    "kernelspec": {
      "name": "python3",
      "display_name": "Python 3"
    },
    "language_info": {
      "name": "python"
    }
  },
  "cells": [
    {
      "cell_type": "markdown",
      "metadata": {
        "id": "view-in-github",
        "colab_type": "text"
      },
      "source": [
        "<a href=\"https://colab.research.google.com/github/kashifkhan9555/WHO_Life_expectancy/blob/main/life_expectancy.ipynb\" target=\"_parent\"><img src=\"https://colab.research.google.com/assets/colab-badge.svg\" alt=\"Open In Colab\"/></a>"
      ]
    },
    {
      "cell_type": "markdown",
      "source": [
        "# **Project Name**    -\n",
        "\n"
      ],
      "metadata": {
        "id": "vncDsAP0Gaoa"
      }
    },
    {
      "cell_type": "markdown",
      "source": [
        "##### **Project Type**    - Regression\n",
        "##### **Contribution**    - Individual\n"
      ],
      "metadata": {
        "id": "beRrZCGUAJYm"
      }
    },
    {
      "cell_type": "markdown",
      "source": [
        "# **Project Summary -**"
      ],
      "metadata": {
        "id": "FJNUwmbgGyua"
      }
    },
    {
      "cell_type": "markdown",
      "source": [],
      "metadata": {
        "id": "F6v_1wHtG2nS"
      }
    },
    {
      "cell_type": "markdown",
      "source": [
        "# **Problem Statement**\n"
      ],
      "metadata": {
        "id": "yQaldy8SH6Dl"
      }
    },
    {
      "cell_type": "markdown",
      "source": [
        "**The life expectancy dataset has been collected from the World Health Organization (WHO) data repository and from United Nation (UN) website. Among all categories of health-related factors only those critical factors were chosen which are more representative. It considers data from year 2000 to 2015 for 193 countries, containing 22 columns and 2938 rows. All predicting variables was divided into several broad categories: Immunization related factors, Mortality factors, Economical factors and Social factors.**"
      ],
      "metadata": {
        "id": "DpeJGUA3kjGy"
      }
    },
    {
      "cell_type": "markdown",
      "source": [
        "# ***Let's Begin !***"
      ],
      "metadata": {
        "id": "O_i_v8NEhb9l"
      }
    },
    {
      "cell_type": "markdown",
      "source": [
        "## ***1. Know Your Data***"
      ],
      "metadata": {
        "id": "HhfV-JJviCcP"
      }
    },
    {
      "cell_type": "markdown",
      "source": [
        "### Import Libraries"
      ],
      "metadata": {
        "id": "Y3lxredqlCYt"
      }
    },
    {
      "cell_type": "code",
      "source": [
        "# necessary library\n",
        "\n",
        "import pandas as pd\n",
        "import numpy as np\n",
        "import seaborn as sns\n",
        "import matplotlib.pyplot as plt\n",
        "from sklearn.model_selection import train_test_split\n",
        "from sklearn.preprocessing import StandardScaler\n",
        "from sklearn.linear_model import LinearRegression\n",
        "from sklearn.metrics import mean_squared_error, r2_score\n",
        "import sklearn as sns\n",
        "from sklearn.preprocessing import LabelEncoder\n",
        "import plotly.express as px\n",
        "from sklearn.preprocessing import MinMaxScaler\n",
        "!pip install statsmodels\n",
        "import statsmodels.formula.api as smf\n"
      ],
      "metadata": {
        "id": "M8Vqi-pPk-HR"
      },
      "execution_count": null,
      "outputs": []
    },
    {
      "cell_type": "markdown",
      "source": [
        "### Dataset Loading"
      ],
      "metadata": {
        "id": "3RnN4peoiCZX"
      }
    },
    {
      "cell_type": "code",
      "source": [
        "# Load Dataset\n",
        "\n",
        "import pandas as pd\n",
        "df = pd.read_csv('/content/drive/MyDrive/datasets/Life Expectancy Data.csv')\n"
      ],
      "metadata": {
        "id": "4CkvbW_SlZ_R"
      },
      "execution_count": null,
      "outputs": []
    },
    {
      "cell_type": "code",
      "source": [
        "from google.colab import drive\n",
        "drive.mount('/content/drive')"
      ],
      "metadata": {
        "id": "f_t8j5XjYZGU"
      },
      "execution_count": null,
      "outputs": []
    },
    {
      "cell_type": "markdown",
      "source": [
        "### Dataset First View"
      ],
      "metadata": {
        "id": "x71ZqKXriCWQ"
      }
    },
    {
      "cell_type": "code",
      "source": [
        "# prompt:  Dataset First Look\n",
        "\n",
        "df.head()\n"
      ],
      "metadata": {
        "id": "LWNFOSvLl09H"
      },
      "execution_count": null,
      "outputs": []
    },
    {
      "cell_type": "markdown",
      "source": [
        "### Dataset Rows & Columns count"
      ],
      "metadata": {
        "id": "7hBIi_osiCS2"
      }
    },
    {
      "cell_type": "code",
      "source": [
        "# Dataset Rows & Columns count\n",
        "\n",
        "df.shape\n"
      ],
      "metadata": {
        "id": "Kllu7SJgmLij"
      },
      "execution_count": null,
      "outputs": []
    },
    {
      "cell_type": "markdown",
      "source": [
        "### Dataset Information"
      ],
      "metadata": {
        "id": "JlHwYmJAmNHm"
      }
    },
    {
      "cell_type": "code",
      "source": [
        "# Dataset Info\n",
        "df.info()"
      ],
      "metadata": {
        "id": "e9hRXRi6meOf"
      },
      "execution_count": null,
      "outputs": []
    },
    {
      "cell_type": "markdown",
      "source": [
        "#### Duplicate Values"
      ],
      "metadata": {
        "id": "35m5QtbWiB9F"
      }
    },
    {
      "cell_type": "code",
      "source": [
        "# prompt: duplicate values\n",
        "\n",
        "df.duplicated().sum()\n"
      ],
      "metadata": {
        "id": "1sLdpKYkmox0"
      },
      "execution_count": null,
      "outputs": []
    },
    {
      "cell_type": "markdown",
      "source": [
        "#### Missing Values/Null Values"
      ],
      "metadata": {
        "id": "PoPl-ycgm1ru"
      }
    },
    {
      "cell_type": "code",
      "source": [
        "# prompt: # Missing Values/Null Values Count\n",
        "\n",
        "df.isnull().sum()\n"
      ],
      "metadata": {
        "id": "GgHWkxvamxVg"
      },
      "execution_count": null,
      "outputs": []
    },
    {
      "cell_type": "code",
      "source": [
        "# Visualizing the missing values\n",
        "\n",
        "import matplotlib.pyplot as plt\n",
        "import missingno as msno\n",
        "\n",
        "# Visualizing the missing values\n",
        "msno.matrix(df)\n",
        "plt.show()\n"
      ],
      "metadata": {
        "id": "3q5wnI3om9sJ"
      },
      "execution_count": null,
      "outputs": []
    },
    {
      "cell_type": "code",
      "source": [
        "# prompt: remove null values\n",
        "\n",
        "df = df.dropna()\n"
      ],
      "metadata": {
        "id": "o2QVJr5NaqES"
      },
      "execution_count": null,
      "outputs": []
    },
    {
      "cell_type": "code",
      "source": [
        "# Visualizing the missing values\n",
        "\n",
        "import matplotlib.pyplot as plt\n",
        "import missingno as msno\n",
        "\n",
        "# Visualizing the missing values\n",
        "msno.matrix(df)\n",
        "plt.show()"
      ],
      "metadata": {
        "id": "teTQ4gIla1zv"
      },
      "execution_count": null,
      "outputs": []
    },
    {
      "cell_type": "markdown",
      "source": [
        "## ***2. Understanding Your Variables***"
      ],
      "metadata": {
        "id": "nA9Y7ga8ng1Z"
      }
    },
    {
      "cell_type": "code",
      "source": [
        "# Dataset Columns\n",
        "\n",
        "df.columns\n"
      ],
      "metadata": {
        "id": "j7xfkqrt5Ag5"
      },
      "execution_count": null,
      "outputs": []
    },
    {
      "cell_type": "code",
      "source": [
        "# Dataset Describe\n",
        "\n",
        "df.describe()\n"
      ],
      "metadata": {
        "id": "DnOaZdaE5Q5t"
      },
      "execution_count": null,
      "outputs": []
    },
    {
      "cell_type": "markdown",
      "source": [
        "### Variables Description"
      ],
      "metadata": {
        "id": "PBTbrJXOngz2"
      }
    },
    {
      "cell_type": "markdown",
      "source": [
        "Count: This indicates the number of non-null values for each variable. For instance, there are 1649 non-null values for each variable in your dataset.\n",
        "\n",
        "Mean: This represents the average value of each variable across all observations.\n",
        "\n",
        "Standard Deviation (Std): This measures the dispersion or spread of the values around the mean. It indicates how much variation or dispersion exists from the average.\n",
        "\n",
        "Minimum (Min): This is the smallest value observed for each variable.\n",
        "\n",
        "25th Percentile (25%): This is the value below which 25% of the observations fall. Also known as the first quartile.\n",
        "\n",
        "50th Percentile (Median): This is the value below which 50% of the observations fall. Also known as the second quartile or median.\n",
        "\n",
        "75th Percentile (75%): This is the value below which 75% of the observations fall. Also known as the third quartile.\n",
        "\n",
        "Maximum (Max): This is the largest value observed for each variable."
      ],
      "metadata": {
        "id": "aJV4KIxSnxay"
      }
    },
    {
      "cell_type": "markdown",
      "source": [
        "### Check Unique Values for each variable."
      ],
      "metadata": {
        "id": "u3PMJOP6ngxN"
      }
    },
    {
      "cell_type": "code",
      "source": [
        "# prompt: checking unique values\n",
        "\n",
        "for col in df.columns:\n",
        "  print(f\"Unique values for {col}: {df[col].unique()}\")\n"
      ],
      "metadata": {
        "id": "zms12Yq5n-jE"
      },
      "execution_count": null,
      "outputs": []
    },
    {
      "cell_type": "markdown",
      "source": [
        "## 3. ***Data Wrangling***"
      ],
      "metadata": {
        "id": "dauF4eBmngu3"
      }
    },
    {
      "cell_type": "markdown",
      "source": [
        "### Data Wrangling Code"
      ],
      "metadata": {
        "id": "bKJF3rekwFvQ"
      }
    },
    {
      "cell_type": "markdown",
      "source": [
        "## ***4. Data Vizualization***"
      ],
      "metadata": {
        "id": "GF8Ens_Soomf"
      }
    },
    {
      "cell_type": "markdown",
      "source": [
        "#### Chart - 1"
      ],
      "metadata": {
        "id": "0wOQAZs5pc--"
      }
    },
    {
      "cell_type": "code",
      "source": [
        "# Replace 'Life_expectancy ' with the correct column name for life expectancy\n",
        "life_expectancy_column = 'Life_expectancy '\n",
        "\n",
        "# Calculate correlation matrix\n",
        "corr_matrix = df.corr()\n",
        "\n",
        "# Extract correlations with life expectancy\n",
        "life_expectancy_corr = corr_matrix[life_expectancy_column].drop(life_expectancy_column)\n",
        "\n",
        "# Sort correlations in descending order\n",
        "life_expectancy_corr_sorted = life_expectancy_corr.sort_values(ascending=False)\n",
        "\n",
        "# Plot simple horizontal bar plot of correlations\n",
        "plt.figure(figsize=(10, 6))\n",
        "life_expectancy_corr_sorted.plot(kind='barh', color='skyblue')\n",
        "plt.title('Correlations with Life Expectancy')\n",
        "plt.xlabel('Correlation Coefficient')\n",
        "plt.ylabel('Predictor Variables')\n",
        "plt.grid(axis='x')\n",
        "plt.show()\n",
        "\n",
        "\n",
        "\n",
        "\n",
        "\n"
      ],
      "metadata": {
        "id": "7v_ESjsspbW7"
      },
      "execution_count": null,
      "outputs": []
    },
    {
      "cell_type": "markdown",
      "source": [
        "#### Chart - 2"
      ],
      "metadata": {
        "id": "KSlN3yHqYklG"
      }
    },
    {
      "cell_type": "code",
      "source": [
        "#using plotly draw count plot for df['Year']\n",
        "fig = px.histogram(df, x='Year', color='Year', title='Count Plot for Year')\n",
        "\n",
        "#update layout to center the title and make it bold\n",
        "fig.update_layout(\n",
        "    title=dict(text='<b>Count Plot for Year</b>', x=0.5)\n",
        ")\n",
        "\n",
        "fig.show()"
      ],
      "metadata": {
        "id": "R4YgtaqtYklH"
      },
      "execution_count": null,
      "outputs": []
    },
    {
      "cell_type": "markdown",
      "source": [
        "#### Chart - 3"
      ],
      "metadata": {
        "id": "EM7whBJCYoAo"
      }
    },
    {
      "cell_type": "code",
      "source": [
        "#using plotly draw line plot to show the trend of life expectancy over the years\n",
        "fig = px.line(df.sort_values(by='Year'), x='Year', y='Life_expectancy ',animation_frame='Country',animation_group='Year',color='Country', title='Trend of Life Expectancy Over the Years')\n",
        "\n",
        "#update layout to center the title and make it bold\n",
        "fig.update_layout(\n",
        "    title=dict(text='<b>Trend of Life Expectancy Over the Years</b>', x=0.5)\n",
        ")\n",
        "\n",
        "fig.show()"
      ],
      "metadata": {
        "id": "t6GMdE67YoAp"
      },
      "execution_count": null,
      "outputs": []
    },
    {
      "cell_type": "markdown",
      "source": [
        "#### Chart - 4"
      ],
      "metadata": {
        "id": "4Of9eVA-YrdM"
      }
    },
    {
      "cell_type": "code",
      "source": [
        "#using plotly draw count plot for df['Status'] and color each bar with different color\n",
        "fig = px.histogram(df, x='Status', color='Status', title='Count Plot for Status of Country')\n",
        "\n",
        "#update layout to center the title and make it bold\n",
        "fig.update_layout(\n",
        "    title=dict(text='<b>Count Plot for Status of Country</b>', x=0.5)\n",
        ")\n",
        "\n",
        "fig.show()"
      ],
      "metadata": {
        "id": "irlUoxc8YrdO"
      },
      "execution_count": null,
      "outputs": []
    },
    {
      "cell_type": "markdown",
      "source": [
        "#### Chart - 6"
      ],
      "metadata": {
        "id": "OH-pJp9IphqM"
      }
    },
    {
      "cell_type": "markdown",
      "source": [
        "#2. Should a country having a lower life expectancy value (<65) increase its healthcare expenditure in order to improve its average lifespan?"
      ],
      "metadata": {
        "id": "IvUiTy8qEKdB"
      }
    },
    {
      "cell_type": "code",
      "source": [
        "# Filter data for countries with life expectancy below 65\n",
        "low_life_expectancy_df = df[df['Life_expectancy '] < 65]\n",
        "\n",
        "# Group data by status and year, calculate mean healthcare expenditure\n",
        "healthcare_expenditure_by_status_year = low_life_expectancy_df.groupby(['Status', 'Year'])['Total_expenditure'].mean().reset_index()\n",
        "\n",
        "# Plot line chart\n",
        "fig = px.line(data_frame=healthcare_expenditure_by_status_year, x='Year', y='Total_expenditure', color='Status',\n",
        "              title='Average Healthcare Expenditure for Countries with Life Expectancy Below 65 Over Time')\n",
        "fig.update_layout(xaxis_title='Year', yaxis_title='Average Healthcare Expenditure (USD)',\n",
        "                  legend_title='Status', legend=dict(orientation='h', yanchor='bottom', y=1.02, xanchor='right', x=1),\n",
        "                  title=dict(x=0.5))\n",
        "fig.show()\n",
        "\n",
        "\n",
        "\n",
        "# Interpretation\n",
        "# Based on the bar chart, we can observe that developing countries with life expectancy below 65 tend to have lower average healthcare expenditure compared to developed countries. This suggests that increasing healthcare expenditure could potentially improve life expectancy in these countries.\n"
      ],
      "metadata": {
        "id": "kuRf4wtuphqN"
      },
      "execution_count": null,
      "outputs": []
    },
    {
      "cell_type": "markdown",
      "source": [
        "#### Chart - 7"
      ],
      "metadata": {
        "id": "PIIx-8_IphqN"
      }
    },
    {
      "cell_type": "markdown",
      "source": [
        "## 3. How does Infant and Adult mortality rates affect life expectancy?"
      ],
      "metadata": {
        "id": "Y0BUnHimFfor"
      }
    },
    {
      "cell_type": "code",
      "source": [
        "# # Scatter plot for Infant Mortality Rate vs Life Expectancy\n",
        "# plt.figure(figsize=(10, 6))\n",
        "# plt.scatter(df['infant_deaths'], df['Life_expectancy '], color='blue', alpha=0.5)\n",
        "# plt.title('Infant Mortality Rate vs Life Expectancy')\n",
        "# plt.xlabel('Infant Mortality Rate')\n",
        "# plt.ylabel('Life Expectancy')\n",
        "# plt.grid(True)\n",
        "# plt.show()\n",
        "\n",
        "# # Scatter plot for Adult Mortality Rate vs Life Expectancy\n",
        "# plt.figure(figsize=(10, 6))\n",
        "# plt.scatter(df['Adult_Mortality'], df['Life_expectancy '], color='red', alpha=0.5)\n",
        "# plt.title('Adult Mortality Rate vs Life Expectancy')\n",
        "# plt.xlabel('Adult Mortality Rate')\n",
        "# plt.ylabel('Life Expectancy')\n",
        "# plt.grid(True)\n",
        "# plt.show()\n",
        "\n",
        "#using plotly to visualize scatter ploy of Life expectancy vs Adult Mortality for countries over years\n",
        "fig = px.scatter(df.sort_values(by='Year'), x='Life_expectancy ', y='Adult_Mortality',color='Country', size='Year', title='Life expectancy vs Adult Mortality for Countries over Years')\n",
        "\n",
        "# Update layout to center the title\n",
        "fig.update_layout(title_text='<b>Life expectancy vs Adult Mortality for Countries over Years</b>', title_x=0.5)\n",
        "\n",
        "# Show the plot\n",
        "fig.show()\n"
      ],
      "metadata": {
        "id": "lqAIGUfyphqO"
      },
      "execution_count": null,
      "outputs": []
    },
    {
      "cell_type": "code",
      "source": [
        "#using plotly to visualize scatter ploy of Life expectancy vs Infant deaths for Countries over Years\n",
        "fig = px.scatter(df.sort_values(by='Year'), x='Life_expectancy ', y='infant_deaths',color='Country', size='Year', title='Life expectancy vs Infant deaths for Countries over Years')\n",
        "\n",
        "# Update layout to center the title\n",
        "fig.update_layout(title_text='<b>Life expectancy vs Infant deaths for Countries over Years</b>', title_x=0.5)\n",
        "\n",
        "# Show the plot\n",
        "fig.show()"
      ],
      "metadata": {
        "id": "JMZln2C-FWTy"
      },
      "execution_count": null,
      "outputs": []
    },
    {
      "cell_type": "markdown",
      "source": [
        "#### Chart - 8"
      ],
      "metadata": {
        "id": "BZR9WyysphqO"
      }
    },
    {
      "cell_type": "markdown",
      "source": [
        "## 4. Does Life Expectancy have positive or negative correlation with eating habits, lifestyle, exercise, smoking, drinking alcohol etc."
      ],
      "metadata": {
        "id": "5OgSr1viHvpk"
      }
    },
    {
      "cell_type": "code",
      "source": [
        "# Chart - 8 visualization code\n",
        "\n",
        "# Create a scatter plot to visualize the relationship between life expectancy and alcohol consumption\n",
        "fig = px.scatter(df, x='Life_expectancy ', y='Alcohol',\n",
        "                 title='Life Expectancy vs Alcohol Consumption',\n",
        "                 labels={'Life_expectancy ': 'Life Expectancy', 'Alcohol': 'Alcohol Consumption'},\n",
        "                 trendline='ols')  # Add an ordinary least squares regression trendline\n",
        "\n",
        "# Update layout to center the title\n",
        "fig.update_layout(title_text='<b>Life Expectancy vs Alcohol Consumption</b>', title_x=0.5)\n",
        "\n",
        "# Show the plot\n",
        "fig.show()"
      ],
      "metadata": {
        "id": "TdPTWpAVphqO"
      },
      "execution_count": null,
      "outputs": []
    },
    {
      "cell_type": "markdown",
      "source": [
        "this creates a scatter plot that shows how life expectancy is related to alcohol consumption, helping us understand whether there's a positive or negative correlation between the two variables."
      ],
      "metadata": {
        "id": "HRsQB1vcJ_0f"
      }
    },
    {
      "cell_type": "markdown",
      "source": [
        "#### Chart - 9"
      ],
      "metadata": {
        "id": "YJ55k-q6phqO"
      }
    },
    {
      "cell_type": "markdown",
      "source": [
        "## What is the impact of schooling on the lifespan of humans?"
      ],
      "metadata": {
        "id": "pTYNJlGiOFMV"
      }
    },
    {
      "cell_type": "code",
      "source": [
        "\n",
        "\n",
        "import matplotlib.pyplot as plt\n",
        "# Calculate the correlation coefficient between life expectancy and schooling years\n",
        "correlation = df['Life_expectancy '].corr(df['Schooling'])\n",
        "\n",
        "# Print the correlation coefficient\n",
        "print(f\"Correlation coefficient between life expectancy and schooling years: {correlation}\")\n",
        "\n",
        "# Create a scatter plot to visualize the relationship between life expectancy and schooling years\n",
        "plt.figure(figsize=(10, 6))\n",
        "plt.scatter(df['Schooling'], df['Life_expectancy '], color='blue', alpha=0.5)\n",
        "plt.title('Life Expectancy vs Schooling Years')\n",
        "plt.xlabel('Schooling Years')\n",
        "plt.ylabel('Life Expectancy')\n",
        "plt.grid(True)\n",
        "plt.show()\n"
      ],
      "metadata": {
        "id": "B2aS4O1ophqO"
      },
      "execution_count": null,
      "outputs": []
    },
    {
      "cell_type": "markdown",
      "source": [
        "This scatter plot will allow you to observe the relationship between schooling (measured in years of education) and life expectancy. If there is a positive correlation between schooling and life expectancy, you would expect to see a general trend where higher levels of schooling correspond to higher life expectancies. Conversely, a negative correlation would show lower life expectancies associated with lower levels of schooling."
      ],
      "metadata": {
        "id": "74aE2PC8OOym"
      }
    },
    {
      "cell_type": "markdown",
      "source": [
        "#### Chart - 10"
      ],
      "metadata": {
        "id": "U2RJ9gkRphqQ"
      }
    },
    {
      "cell_type": "markdown",
      "source": [
        "## 7. Do densely populated countries tend to have lower life expectancy?"
      ],
      "metadata": {
        "id": "Zj76Q5mWTgKp"
      }
    },
    {
      "cell_type": "code",
      "source": [
        "# Calculate the densely populated country\n",
        "dense_country = df.loc[df['Population'].idxmax(), 'Country']\n",
        "\n",
        "# Create a scatter plot to visualize the relationship between life expectancy and population density\n",
        "fig = px.scatter(df, x='Life_expectancy ', y='Population',\n",
        "                 title='Life Expectancy vs Population Density',\n",
        "                 labels={'Life_expectancy ': 'Life Expectancy', 'Population': 'Population Density'},\n",
        "                 trendline='ols')  # Add an ordinary least squares regression trendline\n",
        "\n",
        "# Annotate the point corresponding to the densely populated country\n",
        "fig.add_annotation(x=df.loc[df['Country'] == dense_country, 'Life_expectancy '].values[0],\n",
        "                   y=df.loc[df['Country'] == dense_country, 'Population'].values[0],\n",
        "                   text=dense_country,\n",
        "                   showarrow=True,\n",
        "                   arrowhead=1)\n",
        "\n",
        "# Update layout to center the title\n",
        "fig.update_layout(title_text='<b>Life Expectancy vs Population Density</b>', title_x=0.5)\n",
        "\n",
        "# Show the plot\n",
        "fig.show()\n",
        "\n",
        "\n",
        "\n",
        "\n",
        "\n"
      ],
      "metadata": {
        "id": "GM7a4YP4phqQ"
      },
      "execution_count": null,
      "outputs": []
    },
    {
      "cell_type": "markdown",
      "source": [
        "#### Chart - 11"
      ],
      "metadata": {
        "id": "x-EpHcCOp1ci"
      }
    },
    {
      "cell_type": "markdown",
      "source": [
        "## What is the impact of Immunization coverage on life Expectancy?"
      ],
      "metadata": {
        "id": "paSb2lUfsUST"
      }
    },
    {
      "cell_type": "code",
      "source": [
        "plt.figure(figsize=(10, 6))\n",
        "plt.scatter(df['Polio'], df['Life_expectancy '])\n",
        "plt.title('Impact of Polio Immunization Coverage on Life Expectancy')\n",
        "plt.xlabel('Polio Immunization Coverage')\n",
        "plt.ylabel('Life Expectancy')\n",
        "plt.grid(True)\n",
        "plt.show()\n"
      ],
      "metadata": {
        "id": "jmquIoduSG49"
      },
      "execution_count": null,
      "outputs": []
    },
    {
      "cell_type": "code",
      "source": [
        "plt.figure(figsize=(10, 6))\n",
        "plt.scatter(df['Hepatitis_B'], df['Life_expectancy '])\n",
        "plt.title('Impact of Polio Immunization Coverage on Life Expectancy')\n",
        "plt.xlabel('Polio Immunization Coverage')\n",
        "plt.ylabel('Life Expectancy')\n",
        "plt.grid(True)\n",
        "plt.show()"
      ],
      "metadata": {
        "id": "f1aVnl7lqo3L"
      },
      "execution_count": null,
      "outputs": []
    },
    {
      "cell_type": "markdown",
      "source": [
        "## Calculate the average immunization coverage."
      ],
      "metadata": {
        "id": "BKB_SzyOswqS"
      }
    },
    {
      "cell_type": "code",
      "source": [
        "df['Immunization_coverage'] = df[['Polio', 'Hepatitis_B']].mean(axis=1)\n",
        "\n",
        "# Visualize the relationship between immunization coverage and life expectancy\n",
        "plt.figure(figsize=(10, 6))\n",
        "plt.scatter(df['Immunization_coverage'], df['Life_expectancy '])\n",
        "plt.title('Impact of Immunization Coverage on Life Expectancy')\n",
        "plt.xlabel('Immunization Coverage')\n",
        "plt.ylabel('Life Expectancy')\n",
        "plt.grid(True)\n",
        "plt.show()\n"
      ],
      "metadata": {
        "id": "zgL_Wg7AsraS"
      },
      "execution_count": null,
      "outputs": []
    },
    {
      "cell_type": "code",
      "source": [
        "df.head()"
      ],
      "metadata": {
        "id": "2dyCgmX_o94V"
      },
      "execution_count": null,
      "outputs": []
    },
    {
      "cell_type": "markdown",
      "source": [
        "## ***6. Feature Engineering & Data Pre-processing***"
      ],
      "metadata": {
        "id": "yLjJCtPM0KBk"
      }
    },
    {
      "cell_type": "markdown",
      "source": [
        "### 2. Handling Outliers"
      ],
      "metadata": {
        "id": "id1riN9m0vUs"
      }
    },
    {
      "cell_type": "code",
      "source": [
        "import matplotlib.pyplot as plt\n",
        "import seaborn as sns\n",
        "\n",
        "# Set the figure size for better readability\n",
        "plt.figure(figsize=(15, 10))\n",
        "\n",
        "# Limit the number of columns to fit within the layout\n",
        "columns_to_plot = df.columns[:19]  # Select the first 19 columns\n",
        "\n",
        "# Create boxplots for each selected column\n",
        "for i, col in enumerate(columns_to_plot):\n",
        "    plt.subplot(4, 5, i + 1)  # Adjust the subplot layout\n",
        "    sns.boxplot(y=df[col], color='skyblue')\n",
        "    plt.title(f'Boxplot of {col}', fontsize=12)\n",
        "    plt.ylabel('')  # Remove y-axis label for better clarity\n",
        "    plt.xlabel('')  # Remove x-axis label for better clarity\n",
        "\n",
        "# Adjust the layout and padding\n",
        "plt.tight_layout()\n",
        "\n",
        "# Show the plot\n",
        "plt.show()\n",
        "\n",
        "\n"
      ],
      "metadata": {
        "id": "M6w2CzZf04JK"
      },
      "execution_count": null,
      "outputs": []
    },
    {
      "cell_type": "markdown",
      "source": [
        "### After handling outliers"
      ],
      "metadata": {
        "id": "oP3GZXUQ3KHO"
      }
    },
    {
      "cell_type": "code",
      "source": [
        "import matplotlib.pyplot as plt\n",
        "import numpy as np\n",
        "\n",
        "# Identify numerical columns\n",
        "numerical_cols = df.select_dtypes(include=['int64', 'float64']).columns\n",
        "\n",
        "# Create subplots for the first 20 numerical columns\n",
        "plt.figure(figsize=(15, 20))\n",
        "for i, col in enumerate(numerical_cols[:20]):  # Select the first 20 numerical columns\n",
        "    plt.subplot(5, 4, i + 1)  # Create subplots in a 5x4 grid\n",
        "    sns.boxplot(y=df[col], color='skyblue')\n",
        "    plt.title(f'Boxplot of {col}', fontsize=12)\n",
        "    plt.ylabel('')\n",
        "    plt.xlabel('')\n",
        "\n",
        "plt.tight_layout()\n",
        "plt.show()\n",
        "\n"
      ],
      "metadata": {
        "id": "8grxdy0C24Ie"
      },
      "execution_count": null,
      "outputs": []
    },
    {
      "cell_type": "markdown",
      "source": [
        "##### What all outlier treatment techniques have you used and why did you use those techniques?"
      ],
      "metadata": {
        "id": "578E2V7j08f6"
      }
    },
    {
      "cell_type": "markdown",
      "source": [
        "Answer Here."
      ],
      "metadata": {
        "id": "uGZz5OrT1HH-"
      }
    },
    {
      "cell_type": "markdown",
      "source": [
        "### 3. Categorical Encoding"
      ],
      "metadata": {
        "id": "89xtkJwZ18nB"
      }
    },
    {
      "cell_type": "code",
      "source": [
        "# Encode your categorical columns\n",
        "df['Country'].unique()\n"
      ],
      "metadata": {
        "id": "21JmIYMG2hEo"
      },
      "execution_count": null,
      "outputs": []
    },
    {
      "cell_type": "code",
      "source": [
        "df['Status'].unique()"
      ],
      "metadata": {
        "id": "-hPUVyk24NNV"
      },
      "execution_count": null,
      "outputs": []
    },
    {
      "cell_type": "code",
      "source": [
        "# Columns to apply label encoding\n",
        "\n",
        "cols_to_encode = ['Country', 'Status']\n",
        "\n",
        "# Apply label encoding to X\n",
        "label_encoder_df = LabelEncoder()\n",
        "for col in cols_to_encode:\n",
        "    df[col] = label_encoder_df.fit_transform(df[col])"
      ],
      "metadata": {
        "id": "q4x_OR_t4VNd"
      },
      "execution_count": null,
      "outputs": []
    },
    {
      "cell_type": "markdown",
      "source": [
        "## Values After Handling"
      ],
      "metadata": {
        "id": "F3fKstrf499c"
      }
    },
    {
      "cell_type": "code",
      "source": [
        "df['Country'].unique()"
      ],
      "metadata": {
        "id": "m8h-gNP449qM"
      },
      "execution_count": null,
      "outputs": []
    },
    {
      "cell_type": "code",
      "source": [
        "df['Status'].unique()"
      ],
      "metadata": {
        "id": "ZkbJPX1F5Dys"
      },
      "execution_count": null,
      "outputs": []
    },
    {
      "cell_type": "markdown",
      "source": [
        "### 4. Feature Manipulation & Selection"
      ],
      "metadata": {
        "id": "-oLEiFgy-5Pf"
      }
    },
    {
      "cell_type": "markdown",
      "source": [
        "#### 1. Feature Manipulation"
      ],
      "metadata": {
        "id": "C74aWNz2AliB"
      }
    },
    {
      "cell_type": "code",
      "source": [
        "\n",
        "X = df.drop('Life_expectancy ', axis=1)\n",
        "y = df['Life_expectancy ']\n"
      ],
      "metadata": {
        "id": "h1qC4yhBApWC"
      },
      "execution_count": null,
      "outputs": []
    },
    {
      "cell_type": "code",
      "source": [
        "X"
      ],
      "metadata": {
        "id": "jMAwOSs7vQyX"
      },
      "execution_count": null,
      "outputs": []
    },
    {
      "cell_type": "markdown",
      "source": [
        "### 6. Data Scaling"
      ],
      "metadata": {
        "id": "rMDnDkt2B6du"
      }
    },
    {
      "cell_type": "code",
      "source": [
        "# Scaling your data\n",
        "# Columns to scale\n",
        "cols_to_scale = ['Country', 'Year', 'Adult_Mortality',\n",
        "       'infant_deaths', 'Alcohol', 'percentage_expenditure', 'Hepatitis_B',\n",
        "       'Measles ', ' BMI ', 'under-five deaths ', 'Polio', 'Total_expenditure',\n",
        "       'Diphtheria ', ' HIV/AIDS', 'GDP', 'Population',\n",
        "       ' thinness  1-19 years', ' thinness 5-9 years',\n",
        "       'Income_composition of resources', 'Schooling']\n",
        "\n",
        "# Apply Min-Max scaling to the specified columns\n",
        "scaler = MinMaxScaler()\n",
        "X[cols_to_scale] = scaler.fit_transform(X[cols_to_scale])"
      ],
      "metadata": {
        "id": "dL9LWpySC6x_"
      },
      "execution_count": null,
      "outputs": []
    },
    {
      "cell_type": "code",
      "source": [
        "X"
      ],
      "metadata": {
        "id": "R_MSFJU2wh_f"
      },
      "execution_count": null,
      "outputs": []
    },
    {
      "cell_type": "markdown",
      "source": [
        "### 8. Data Splitting"
      ],
      "metadata": {
        "id": "BhH2vgX9EjGr"
      }
    },
    {
      "cell_type": "code",
      "source": [
        "# Split your data to train and test. Choose Splitting ratio wisely.\n",
        "# X_train, X_test, y_train, y_test = train_test_split(X, y, test_size=0.2, random_state=42)"
      ],
      "metadata": {
        "id": "0CTyd2UwEyNM"
      },
      "execution_count": null,
      "outputs": []
    },
    {
      "cell_type": "code",
      "source": [
        "print(f\"Shape of X_train is: {X_train.shape}\")\n",
        "print(f\"Shape of Y_train is: {y_train.shape}\\n\")\n",
        "print(f\"Shape of X_test is: {X_test.shape}\")\n",
        "print(f\"Shape of Y_test is: {y_test.shape}\")"
      ],
      "metadata": {
        "id": "-zTbhBpWwvQ_"
      },
      "execution_count": null,
      "outputs": []
    },
    {
      "cell_type": "markdown",
      "source": [
        "## ***7. ML Model Implementation***"
      ],
      "metadata": {
        "id": "VfCC591jGiD4"
      }
    },
    {
      "cell_type": "markdown",
      "source": [
        "### ML Model - 1"
      ],
      "metadata": {
        "id": "OB4l2ZhMeS1U"
      }
    },
    {
      "cell_type": "code",
      "source": [
        "import numpy as np\n",
        "import pandas as pd\n",
        "from sklearn.model_selection import KFold\n",
        "from sklearn.metrics import mean_squared_error, r2_score\n",
        "import matplotlib.pyplot as plt\n",
        "import statsmodels.api as sm\n",
        "\n",
        "class RidgeRegression():\n",
        "    def __init__(self, learning_rate, iterations, l2_penalty):\n",
        "        self.learning_rate = learning_rate\n",
        "        self.iterations = iterations\n",
        "        self.l2_penalty = l2_penalty\n",
        "\n",
        "    # Function for model training\n",
        "    def train(self, X_train, y_train):\n",
        "        # Initialize coefficients\n",
        "        self.coef_ = np.zeros(X_train.shape[1])\n",
        "        self.intercept_ = 0\n",
        "\n",
        "        # Gradient descent loop\n",
        "        for _ in range(self.iterations):\n",
        "            # Predicted values\n",
        "            y_pred = np.dot(X_train, self.coef_) + self.intercept_\n",
        "\n",
        "            # Gradient\n",
        "            error = y_pred - y_train\n",
        "            gradient_coef = 2 * np.dot(X_train.T, error) + 2 * self.l2_penalty * self.coef_\n",
        "            gradient_intercept = 2 * np.mean(error)\n",
        "\n",
        "            # Update coefficients\n",
        "            self.coef_ -= self.learning_rate * gradient_coef\n",
        "            self.intercept_ -= self.learning_rate * gradient_intercept\n",
        "\n",
        "    # Function for prediction\n",
        "    def predict(self, X_test):\n",
        "        return np.dot(X_test, self.coef_) + self.intercept_\n",
        "\n",
        "# Load data\n",
        "df = pd.read_csv('/content/drive/MyDrive/datasets/Life Expectancy Data.csv')\n",
        "\n",
        "# Preprocess data\n",
        "X = df.drop('Life_expectancy', axis=1)\n",
        "y = df['Life_expectancy']\n",
        "X = sm.add_constant(X)\n",
        "\n",
        "# Initialize KFold cross-validation\n",
        "kf = KFold(n_splits=5)\n",
        "\n",
        "# Initialize lists to store results\n",
        "rmse_list = []\n",
        "r2_list = []\n",
        "\n",
        "# Perform KFold cross-validation\n",
        "for train_index, test_index in kf.split(X):\n",
        "    X_train, X_test = X.iloc[train_index], X.iloc[test_index]\n",
        "    y_train, y_test = y.iloc[train_index], y.iloc[test_index]\n",
        "\n",
        "    # Train the model\n",
        "    model = RidgeRegression(learning_rate=0.001, iterations=1000, l2_penalty=0.1)\n",
        "    model.train(X_train, y_train)\n",
        "\n",
        "    # Predict on test data\n",
        "    y_pred = model.predict(X_test)\n",
        "\n",
        "    # Calculate and store evaluation metrics\n",
        "    rmse = np.sqrt(mean_squared_error(y_test, y_pred))\n",
        "    r2 = r2_score(y_test, y_pred)\n",
        "    rmse_list.append(rmse)\n",
        "    r2_list.append(r2)\n",
        "\n",
        "# Print average RMSE and R^2 across folds\n",
        "print(f\"Average RMSE across folds: {np.mean(rmse_list)}\")\n",
        "print(f\"Average R^2 across folds: {np.mean(r2_list)}\")\n",
        "\n",
        "# Plot the actual vs predicted values\n",
        "plt.scatter(y_test, y_pred)\n",
        "plt.xlabel(\"Actual Life Expectancy\")\n",
        "plt.ylabel(\"Predicted Life Expectancy\")\n",
        "plt.title(\"Actual vs Predicted Life Expectancy using Ridge Regression\")\n",
        "plt.show()\n"
      ],
      "metadata": {
        "id": "cavMi5SBA6u6"
      },
      "execution_count": null,
      "outputs": []
    },
    {
      "cell_type": "code",
      "source": [
        "print(df.columns)\n"
      ],
      "metadata": {
        "id": "Yd9LG2NSC7P2"
      },
      "execution_count": null,
      "outputs": []
    },
    {
      "cell_type": "code",
      "source": [
        "df.head()"
      ],
      "metadata": {
        "id": "lThEaYjGCqwz"
      },
      "execution_count": null,
      "outputs": []
    },
    {
      "cell_type": "markdown",
      "source": [
        "#### 2. Cross- Validation & Hyperparameter Tuning"
      ],
      "metadata": {
        "id": "4qY1EAkEfxKe"
      }
    },
    {
      "cell_type": "code",
      "source": [
        "# ML Model - 1 Implementation with hyperparameter optimization techniques (i.e., GridSearch CV, RandomSearch CV, Bayesian Optimization etc.)\n",
        "\n",
        "# Fit the Algorithm\n",
        "\n",
        "# Predict on the model"
      ],
      "metadata": {
        "id": "Dy61ujd6fxKe"
      },
      "execution_count": null,
      "outputs": []
    },
    {
      "cell_type": "markdown",
      "source": [
        "##### Which hyperparameter optimization technique have you used and why?"
      ],
      "metadata": {
        "id": "PiV4Ypx8fxKe"
      }
    },
    {
      "cell_type": "markdown",
      "source": [
        "Answer Here."
      ],
      "metadata": {
        "id": "negyGRa7fxKf"
      }
    },
    {
      "cell_type": "markdown",
      "source": [
        "##### Have you seen any improvement? Note down the improvement with updates Evaluation metric Score Chart."
      ],
      "metadata": {
        "id": "TfvqoZmBfxKf"
      }
    },
    {
      "cell_type": "markdown",
      "source": [
        "Answer Here."
      ],
      "metadata": {
        "id": "OaLui8CcfxKf"
      }
    },
    {
      "cell_type": "markdown",
      "source": [
        "### ML Model - 2"
      ],
      "metadata": {
        "id": "dJ2tPlVmpsJ0"
      }
    },
    {
      "cell_type": "markdown",
      "source": [
        "#### 1. Explain the ML Model used and it's performance using Evaluation metric Score Chart."
      ],
      "metadata": {
        "id": "JWYfwnehpsJ1"
      }
    },
    {
      "cell_type": "markdown",
      "source": [
        "#### 2. Cross- Validation & Hyperparameter Tuning"
      ],
      "metadata": {
        "id": "-jK_YjpMpsJ2"
      }
    },
    {
      "cell_type": "code",
      "source": [
        "# ML Model - 1 Implementation with hyperparameter optimization techniques (i.e., GridSearch CV, RandomSearch CV, Bayesian Optimization etc.)\n",
        "\n",
        "# Fit the Algorithm\n",
        "\n",
        "# Predict on the model"
      ],
      "metadata": {
        "id": "Dn0EOfS6psJ2"
      },
      "execution_count": null,
      "outputs": []
    },
    {
      "cell_type": "markdown",
      "source": [
        "##### Which hyperparameter optimization technique have you used and why?"
      ],
      "metadata": {
        "id": "HAih1iBOpsJ2"
      }
    },
    {
      "cell_type": "markdown",
      "source": [
        "Answer Here."
      ],
      "metadata": {
        "id": "9kBgjYcdpsJ2"
      }
    },
    {
      "cell_type": "markdown",
      "source": [
        "##### Have you seen any improvement? Note down the improvement with updates Evaluation metric Score Chart."
      ],
      "metadata": {
        "id": "zVGeBEFhpsJ2"
      }
    },
    {
      "cell_type": "markdown",
      "source": [
        "Answer Here."
      ],
      "metadata": {
        "id": "74yRdG6UpsJ3"
      }
    },
    {
      "cell_type": "markdown",
      "source": [
        "#### 3. Explain each evaluation metric's indication towards business and the business impact pf the ML model used."
      ],
      "metadata": {
        "id": "bmKjuQ-FpsJ3"
      }
    },
    {
      "cell_type": "markdown",
      "source": [
        "Answer Here."
      ],
      "metadata": {
        "id": "BDKtOrBQpsJ3"
      }
    },
    {
      "cell_type": "markdown",
      "source": [
        "### ML Model - 3"
      ],
      "metadata": {
        "id": "Fze-IPXLpx6K"
      }
    },
    {
      "cell_type": "code",
      "source": [
        "# ML Model - 3 Implementation\n",
        "\n",
        "# Fit the Algorithm\n",
        "\n",
        "# Predict on the model"
      ],
      "metadata": {
        "id": "FFrSXAtrpx6M"
      },
      "execution_count": null,
      "outputs": []
    },
    {
      "cell_type": "markdown",
      "source": [
        "#### 1. Explain the ML Model used and it's performance using Evaluation metric Score Chart."
      ],
      "metadata": {
        "id": "7AN1z2sKpx6M"
      }
    },
    {
      "cell_type": "code",
      "source": [
        "# Visualizing evaluation Metric Score chart"
      ],
      "metadata": {
        "id": "xIY4lxxGpx6M"
      },
      "execution_count": null,
      "outputs": []
    },
    {
      "cell_type": "markdown",
      "source": [
        "#### 2. Cross- Validation & Hyperparameter Tuning"
      ],
      "metadata": {
        "id": "9PIHJqyupx6M"
      }
    },
    {
      "cell_type": "code",
      "source": [
        "# ML Model - 3 Implementation with hyperparameter optimization techniques (i.e., GridSearch CV, RandomSearch CV, Bayesian Optimization etc.)\n",
        "\n",
        "# Fit the Algorithm\n",
        "\n",
        "# Predict on the model"
      ],
      "metadata": {
        "id": "eSVXuaSKpx6M"
      },
      "execution_count": null,
      "outputs": []
    },
    {
      "cell_type": "markdown",
      "source": [
        "##### Which hyperparameter optimization technique have you used and why?"
      ],
      "metadata": {
        "id": "_-qAgymDpx6N"
      }
    },
    {
      "cell_type": "markdown",
      "source": [
        "Answer Here."
      ],
      "metadata": {
        "id": "lQMffxkwpx6N"
      }
    },
    {
      "cell_type": "markdown",
      "source": [
        "##### Have you seen any improvement? Note down the improvement with updates Evaluation metric Score Chart."
      ],
      "metadata": {
        "id": "Z-hykwinpx6N"
      }
    },
    {
      "cell_type": "markdown",
      "source": [
        "Answer Here."
      ],
      "metadata": {
        "id": "MzVzZC6opx6N"
      }
    },
    {
      "cell_type": "markdown",
      "source": [
        "### 1. Which Evaluation metrics did you consider for a positive business impact and why?"
      ],
      "metadata": {
        "id": "h_CCil-SKHpo"
      }
    },
    {
      "cell_type": "markdown",
      "source": [
        "Answer Here."
      ],
      "metadata": {
        "id": "jHVz9hHDKFms"
      }
    },
    {
      "cell_type": "markdown",
      "source": [
        "### 2. Which ML model did you choose from the above created models as your final prediction model and why?"
      ],
      "metadata": {
        "id": "cBFFvTBNJzUa"
      }
    },
    {
      "cell_type": "markdown",
      "source": [
        "Answer Here."
      ],
      "metadata": {
        "id": "6ksF5Q1LKTVm"
      }
    },
    {
      "cell_type": "markdown",
      "source": [
        "### 3. Explain the model which you have used and the feature importance using any model explainability tool?"
      ],
      "metadata": {
        "id": "HvGl1hHyA_VK"
      }
    },
    {
      "cell_type": "markdown",
      "source": [
        "Answer Here."
      ],
      "metadata": {
        "id": "YnvVTiIxBL-C"
      }
    },
    {
      "cell_type": "markdown",
      "source": [
        "# **Conclusion**"
      ],
      "metadata": {
        "id": "gCX9965dhzqZ"
      }
    },
    {
      "cell_type": "markdown",
      "source": [
        "Write the conclusion here."
      ],
      "metadata": {
        "id": "Fjb1IsQkh3yE"
      }
    },
    {
      "cell_type": "markdown",
      "source": [
        "### ***Hurrah! You have successfully completed your Machine Learning Capstone Project !!!***"
      ],
      "metadata": {
        "id": "gIfDvo9L0UH2"
      }
    }
  ]
}